{
 "cells": [
  {
   "cell_type": "code",
   "execution_count": 1,
   "source": [
    "import re\r\n",
    "import joblib\r\n",
    "import pandas as pd\r\n",
    "import numpy as np\r\n",
    "import spacy\r\n",
    "import seaborn as sns\r\n",
    "import pickle\r\n",
    "from sklearn.model_selection import train_test_split\r\n",
    "from sklearn.pipeline import make_pipeline\r\n",
    "from category_encoders import OrdinalEncoder\r\n",
    "from sklearn.impute import SimpleImputer\r\n",
    "from xgboost import XGBClassifier \r\n",
    "from sklearn.model_selection import RandomizedSearchCV"
   ],
   "outputs": [],
   "metadata": {}
  },
  {
   "cell_type": "code",
   "execution_count": 2,
   "source": [
    "df = pd.read_csv('kickstarter.csv')"
   ],
   "outputs": [],
   "metadata": {}
  },
  {
   "cell_type": "code",
   "execution_count": 3,
   "source": [
    "df.head()"
   ],
   "outputs": [
    {
     "output_type": "execute_result",
     "data": {
      "text/plain": [
       "           ID                                               name  \\\n",
       "0  1000002330                    The Songs of Adelaide & Abullah   \n",
       "1  1000003930      Greeting From Earth: ZGAC Arts Capsule For ET   \n",
       "2  1000004038                                     Where is Hank?   \n",
       "3  1000007540  ToshiCapital Rekordz Needs Help to Complete Album   \n",
       "4  1000011046  Community Film Project: The Art of Neighborhoo...   \n",
       "\n",
       "         category main_category currency    deadline     goal  \\\n",
       "0          Poetry    Publishing      GBP  2015-10-09   1000.0   \n",
       "1  Narrative Film  Film & Video      USD  2017-11-01  30000.0   \n",
       "2  Narrative Film  Film & Video      USD  2013-02-26  45000.0   \n",
       "3           Music         Music      USD  2012-04-16   5000.0   \n",
       "4    Film & Video  Film & Video      USD  2015-08-29  19500.0   \n",
       "\n",
       "              launched  pledged     state  backers country  usd pledged  \\\n",
       "0  2015-08-11 12:12:28      0.0    failed        0      GB          0.0   \n",
       "1  2017-09-02 04:43:57   2421.0    failed       15      US        100.0   \n",
       "2  2013-01-12 00:20:50    220.0    failed        3      US        220.0   \n",
       "3  2012-03-17 03:24:11      1.0    failed        1      US          1.0   \n",
       "4  2015-07-04 08:35:03   1283.0  canceled       14      US       1283.0   \n",
       "\n",
       "   usd_pledged_real  usd_goal_real  \n",
       "0               0.0        1533.95  \n",
       "1            2421.0       30000.00  \n",
       "2             220.0       45000.00  \n",
       "3               1.0        5000.00  \n",
       "4            1283.0       19500.00  "
      ],
      "text/html": [
       "<div>\n",
       "<style scoped>\n",
       "    .dataframe tbody tr th:only-of-type {\n",
       "        vertical-align: middle;\n",
       "    }\n",
       "\n",
       "    .dataframe tbody tr th {\n",
       "        vertical-align: top;\n",
       "    }\n",
       "\n",
       "    .dataframe thead th {\n",
       "        text-align: right;\n",
       "    }\n",
       "</style>\n",
       "<table border=\"1\" class=\"dataframe\">\n",
       "  <thead>\n",
       "    <tr style=\"text-align: right;\">\n",
       "      <th></th>\n",
       "      <th>ID</th>\n",
       "      <th>name</th>\n",
       "      <th>category</th>\n",
       "      <th>main_category</th>\n",
       "      <th>currency</th>\n",
       "      <th>deadline</th>\n",
       "      <th>goal</th>\n",
       "      <th>launched</th>\n",
       "      <th>pledged</th>\n",
       "      <th>state</th>\n",
       "      <th>backers</th>\n",
       "      <th>country</th>\n",
       "      <th>usd pledged</th>\n",
       "      <th>usd_pledged_real</th>\n",
       "      <th>usd_goal_real</th>\n",
       "    </tr>\n",
       "  </thead>\n",
       "  <tbody>\n",
       "    <tr>\n",
       "      <th>0</th>\n",
       "      <td>1000002330</td>\n",
       "      <td>The Songs of Adelaide &amp; Abullah</td>\n",
       "      <td>Poetry</td>\n",
       "      <td>Publishing</td>\n",
       "      <td>GBP</td>\n",
       "      <td>2015-10-09</td>\n",
       "      <td>1000.0</td>\n",
       "      <td>2015-08-11 12:12:28</td>\n",
       "      <td>0.0</td>\n",
       "      <td>failed</td>\n",
       "      <td>0</td>\n",
       "      <td>GB</td>\n",
       "      <td>0.0</td>\n",
       "      <td>0.0</td>\n",
       "      <td>1533.95</td>\n",
       "    </tr>\n",
       "    <tr>\n",
       "      <th>1</th>\n",
       "      <td>1000003930</td>\n",
       "      <td>Greeting From Earth: ZGAC Arts Capsule For ET</td>\n",
       "      <td>Narrative Film</td>\n",
       "      <td>Film &amp; Video</td>\n",
       "      <td>USD</td>\n",
       "      <td>2017-11-01</td>\n",
       "      <td>30000.0</td>\n",
       "      <td>2017-09-02 04:43:57</td>\n",
       "      <td>2421.0</td>\n",
       "      <td>failed</td>\n",
       "      <td>15</td>\n",
       "      <td>US</td>\n",
       "      <td>100.0</td>\n",
       "      <td>2421.0</td>\n",
       "      <td>30000.00</td>\n",
       "    </tr>\n",
       "    <tr>\n",
       "      <th>2</th>\n",
       "      <td>1000004038</td>\n",
       "      <td>Where is Hank?</td>\n",
       "      <td>Narrative Film</td>\n",
       "      <td>Film &amp; Video</td>\n",
       "      <td>USD</td>\n",
       "      <td>2013-02-26</td>\n",
       "      <td>45000.0</td>\n",
       "      <td>2013-01-12 00:20:50</td>\n",
       "      <td>220.0</td>\n",
       "      <td>failed</td>\n",
       "      <td>3</td>\n",
       "      <td>US</td>\n",
       "      <td>220.0</td>\n",
       "      <td>220.0</td>\n",
       "      <td>45000.00</td>\n",
       "    </tr>\n",
       "    <tr>\n",
       "      <th>3</th>\n",
       "      <td>1000007540</td>\n",
       "      <td>ToshiCapital Rekordz Needs Help to Complete Album</td>\n",
       "      <td>Music</td>\n",
       "      <td>Music</td>\n",
       "      <td>USD</td>\n",
       "      <td>2012-04-16</td>\n",
       "      <td>5000.0</td>\n",
       "      <td>2012-03-17 03:24:11</td>\n",
       "      <td>1.0</td>\n",
       "      <td>failed</td>\n",
       "      <td>1</td>\n",
       "      <td>US</td>\n",
       "      <td>1.0</td>\n",
       "      <td>1.0</td>\n",
       "      <td>5000.00</td>\n",
       "    </tr>\n",
       "    <tr>\n",
       "      <th>4</th>\n",
       "      <td>1000011046</td>\n",
       "      <td>Community Film Project: The Art of Neighborhoo...</td>\n",
       "      <td>Film &amp; Video</td>\n",
       "      <td>Film &amp; Video</td>\n",
       "      <td>USD</td>\n",
       "      <td>2015-08-29</td>\n",
       "      <td>19500.0</td>\n",
       "      <td>2015-07-04 08:35:03</td>\n",
       "      <td>1283.0</td>\n",
       "      <td>canceled</td>\n",
       "      <td>14</td>\n",
       "      <td>US</td>\n",
       "      <td>1283.0</td>\n",
       "      <td>1283.0</td>\n",
       "      <td>19500.00</td>\n",
       "    </tr>\n",
       "  </tbody>\n",
       "</table>\n",
       "</div>"
      ]
     },
     "metadata": {},
     "execution_count": 3
    }
   ],
   "metadata": {}
  },
  {
   "cell_type": "code",
   "execution_count": 4,
   "source": [
    "print(df.shape)"
   ],
   "outputs": [
    {
     "output_type": "stream",
     "name": "stdout",
     "text": [
      "(378661, 15)\n"
     ]
    }
   ],
   "metadata": {}
  },
  {
   "cell_type": "code",
   "execution_count": 5,
   "source": [
    "df = df[(df['state'] == 'failed') | (df['state'] == 'successful')].copy()\n",
    "print(df.shape)"
   ],
   "outputs": [
    {
     "output_type": "stream",
     "name": "stdout",
     "text": [
      "(331675, 15)\n"
     ]
    }
   ],
   "metadata": {}
  },
  {
   "cell_type": "code",
   "execution_count": 6,
   "source": [
    "print(list(df.main_category.unique()))"
   ],
   "outputs": [
    {
     "output_type": "stream",
     "name": "stdout",
     "text": [
      "['Publishing', 'Film & Video', 'Music', 'Food', 'Crafts', 'Games', 'Design', 'Comics', 'Fashion', 'Theater', 'Art', 'Photography', 'Technology', 'Dance', 'Journalism']\n"
     ]
    }
   ],
   "metadata": {}
  },
  {
   "cell_type": "code",
   "execution_count": 7,
   "source": [
    "print(list(df.category.unique()))"
   ],
   "outputs": [
    {
     "output_type": "stream",
     "name": "stdout",
     "text": [
      "['Poetry', 'Narrative Film', 'Music', 'Restaurants', 'Food', 'Drinks', 'Nonfiction', 'Indie Rock', 'Crafts', 'Games', 'Tabletop Games', 'Design', 'Comic Books', 'Art Books', 'Fashion', 'Childrenswear', 'Theater', 'Comics', 'DIY', 'Webseries', 'Animation', 'Food Trucks', 'Product Design', 'Public Art', 'Documentary', 'Illustration', 'Photography', 'Pop', 'People', 'Art', 'Family', 'Fiction', 'Film & Video', 'Accessories', 'Rock', 'Hardware', 'Software', 'Weaving', 'Web', 'Jazz', 'Ready-to-wear', 'Festivals', 'Video Games', 'Anthologies', 'Publishing', 'Shorts', 'Gadgets', 'Electronic Music', 'Radio & Podcasts', 'Cookbooks', 'Apparel', 'Metal', 'Comedy', 'Hip-Hop', 'Periodicals', 'Dance', 'Technology', 'Painting', 'World Music', 'Photobooks', 'Drama', 'Architecture', 'Young Adult', 'Latin', 'Mobile Games', 'Flight', 'Fine Art', 'Action', 'Playing Cards', 'Makerspaces', 'Punk', \"Children's Books\", 'Apps', 'Audio', 'Performance Art', 'Ceramics', 'Vegan', 'Graphic Novels', 'Fabrication Tools', 'Performances', 'Sculpture', 'Sound', 'Stationery', 'Print', \"Farmer's Markets\", 'Thrillers', 'Events', 'Classical Music', 'Graphic Design', 'Spaces', 'Country & Folk', 'Wearables', 'Journalism', 'Mixed Media', 'Movie Theaters', 'Animals', 'Digital Art', 'Knitting', 'Installations', 'Community Gardens', 'DIY Electronics', 'Embroidery', 'Camera Equipment', 'Jewelry', 'Farms', 'Conceptual Art', 'Fantasy', 'Webcomics', 'Horror', 'Experimental', 'Science Fiction', 'Puzzles', 'R&B', 'Music Videos', 'Video', 'Plays', 'Blues', 'Bacon', 'Faith', 'Live Games', 'Small Batch', 'Woodworking', 'Places', 'Footwear', '3D Printing', 'Zines', 'Musical', 'Workshops', 'Photo', 'Immersive', 'Letterpress', 'Academic', 'Candles', 'Television', 'Space Exploration', 'Gaming Hardware', 'Nature', 'Robots', 'Typography', 'Translations', 'Calendars', 'Textiles', 'Pottery', 'Interactive Design', 'Video Art', 'Glass', 'Pet Fashion', 'Crochet', 'Printing', 'Romance', 'Civic Design', 'Kids', 'Literary Journals', 'Couture', 'Taxidermy', 'Quilts', 'Chiptune', 'Residencies', 'Literary Spaces']\n"
     ]
    }
   ],
   "metadata": {}
  },
  {
   "cell_type": "code",
   "execution_count": 8,
   "source": [
    "df['launched'] = pd.to_datetime(df['launched'])\n",
    "df['deadline'] = pd.to_datetime(df['deadline'])\n",
    "\n",
    "df['duration_days'] = df['deadline'].subtract(df['launched'])\n",
    "df['duration_days'] = df['duration_days'].astype('timedelta64[D]')"
   ],
   "outputs": [],
   "metadata": {}
  },
  {
   "cell_type": "code",
   "execution_count": 9,
   "source": [
    "df = df.assign(outcome=(df['state'] == 'successful').astype(int))"
   ],
   "outputs": [],
   "metadata": {}
  },
  {
   "cell_type": "code",
   "execution_count": 10,
   "source": [
    "df = df.drop(\"ID\", 1)"
   ],
   "outputs": [],
   "metadata": {}
  },
  {
   "cell_type": "code",
   "execution_count": 11,
   "source": [
    "df = df.drop(\"deadline\", 1)"
   ],
   "outputs": [],
   "metadata": {}
  },
  {
   "cell_type": "code",
   "execution_count": 12,
   "source": [
    "df = df.drop(\"launched\", 1)"
   ],
   "outputs": [],
   "metadata": {}
  },
  {
   "cell_type": "code",
   "execution_count": 13,
   "source": [
    "df = df.drop(\"state\", 1)"
   ],
   "outputs": [],
   "metadata": {}
  },
  {
   "cell_type": "code",
   "execution_count": 14,
   "source": [
    "df = df.drop(\"usd_goal_real\", 1)"
   ],
   "outputs": [],
   "metadata": {}
  },
  {
   "cell_type": "code",
   "execution_count": 15,
   "source": [
    "df = df.drop(\"name\", 1)"
   ],
   "outputs": [],
   "metadata": {}
  },
  {
   "cell_type": "code",
   "execution_count": 16,
   "source": [
    "df = df.drop(\"usd_pledged_real\", 1)"
   ],
   "outputs": [],
   "metadata": {}
  },
  {
   "cell_type": "code",
   "execution_count": 17,
   "source": [
    "df = df.drop(\"usd pledged\", 1)"
   ],
   "outputs": [],
   "metadata": {}
  },
  {
   "cell_type": "code",
   "execution_count": 18,
   "source": [
    "df = df.drop(\"pledged\", 1)"
   ],
   "outputs": [],
   "metadata": {}
  },
  {
   "cell_type": "code",
   "execution_count": 19,
   "source": [
    "df = df.drop(\"backers\", 1)"
   ],
   "outputs": [],
   "metadata": {}
  },
  {
   "cell_type": "code",
   "execution_count": 20,
   "source": [
    "df.head()"
   ],
   "outputs": [
    {
     "output_type": "execute_result",
     "data": {
      "text/plain": [
       "         category main_category currency     goal country  duration_days  \\\n",
       "0          Poetry    Publishing      GBP   1000.0      GB           58.0   \n",
       "1  Narrative Film  Film & Video      USD  30000.0      US           59.0   \n",
       "2  Narrative Film  Film & Video      USD  45000.0      US           44.0   \n",
       "3           Music         Music      USD   5000.0      US           29.0   \n",
       "5     Restaurants          Food      USD  50000.0      US           34.0   \n",
       "\n",
       "   outcome  \n",
       "0        0  \n",
       "1        0  \n",
       "2        0  \n",
       "3        0  \n",
       "5        1  "
      ],
      "text/html": [
       "<div>\n",
       "<style scoped>\n",
       "    .dataframe tbody tr th:only-of-type {\n",
       "        vertical-align: middle;\n",
       "    }\n",
       "\n",
       "    .dataframe tbody tr th {\n",
       "        vertical-align: top;\n",
       "    }\n",
       "\n",
       "    .dataframe thead th {\n",
       "        text-align: right;\n",
       "    }\n",
       "</style>\n",
       "<table border=\"1\" class=\"dataframe\">\n",
       "  <thead>\n",
       "    <tr style=\"text-align: right;\">\n",
       "      <th></th>\n",
       "      <th>category</th>\n",
       "      <th>main_category</th>\n",
       "      <th>currency</th>\n",
       "      <th>goal</th>\n",
       "      <th>country</th>\n",
       "      <th>duration_days</th>\n",
       "      <th>outcome</th>\n",
       "    </tr>\n",
       "  </thead>\n",
       "  <tbody>\n",
       "    <tr>\n",
       "      <th>0</th>\n",
       "      <td>Poetry</td>\n",
       "      <td>Publishing</td>\n",
       "      <td>GBP</td>\n",
       "      <td>1000.0</td>\n",
       "      <td>GB</td>\n",
       "      <td>58.0</td>\n",
       "      <td>0</td>\n",
       "    </tr>\n",
       "    <tr>\n",
       "      <th>1</th>\n",
       "      <td>Narrative Film</td>\n",
       "      <td>Film &amp; Video</td>\n",
       "      <td>USD</td>\n",
       "      <td>30000.0</td>\n",
       "      <td>US</td>\n",
       "      <td>59.0</td>\n",
       "      <td>0</td>\n",
       "    </tr>\n",
       "    <tr>\n",
       "      <th>2</th>\n",
       "      <td>Narrative Film</td>\n",
       "      <td>Film &amp; Video</td>\n",
       "      <td>USD</td>\n",
       "      <td>45000.0</td>\n",
       "      <td>US</td>\n",
       "      <td>44.0</td>\n",
       "      <td>0</td>\n",
       "    </tr>\n",
       "    <tr>\n",
       "      <th>3</th>\n",
       "      <td>Music</td>\n",
       "      <td>Music</td>\n",
       "      <td>USD</td>\n",
       "      <td>5000.0</td>\n",
       "      <td>US</td>\n",
       "      <td>29.0</td>\n",
       "      <td>0</td>\n",
       "    </tr>\n",
       "    <tr>\n",
       "      <th>5</th>\n",
       "      <td>Restaurants</td>\n",
       "      <td>Food</td>\n",
       "      <td>USD</td>\n",
       "      <td>50000.0</td>\n",
       "      <td>US</td>\n",
       "      <td>34.0</td>\n",
       "      <td>1</td>\n",
       "    </tr>\n",
       "  </tbody>\n",
       "</table>\n",
       "</div>"
      ]
     },
     "metadata": {},
     "execution_count": 20
    }
   ],
   "metadata": {}
  },
  {
   "cell_type": "code",
   "execution_count": 21,
   "source": [
    "y = df['outcome']\n",
    "\n",
    "print(y.shape)\n",
    "y.head(5)"
   ],
   "outputs": [
    {
     "output_type": "stream",
     "name": "stdout",
     "text": [
      "(331675,)\n"
     ]
    },
    {
     "output_type": "execute_result",
     "data": {
      "text/plain": [
       "0    0\n",
       "1    0\n",
       "2    0\n",
       "3    0\n",
       "5    1\n",
       "Name: outcome, dtype: int32"
      ]
     },
     "metadata": {},
     "execution_count": 21
    }
   ],
   "metadata": {}
  },
  {
   "cell_type": "code",
   "execution_count": 22,
   "source": [
    "df = df.drop('outcome', 1)"
   ],
   "outputs": [],
   "metadata": {}
  },
  {
   "cell_type": "code",
   "execution_count": 23,
   "source": [
    "X_train, X_test, Y_train, Y_test = train_test_split(\n",
    "    df,\n",
    "    y, \n",
    "    test_size = 0.2,\n",
    "    random_state=69\n",
    ")\n",
    "\n",
    "print(X_train.shape, Y_train.shape)\n",
    "print(X_test.shape, Y_test.shape)"
   ],
   "outputs": [
    {
     "output_type": "stream",
     "name": "stdout",
     "text": [
      "(265340, 6) (265340,)\n",
      "(66335, 6) (66335,)\n"
     ]
    }
   ],
   "metadata": {}
  },
  {
   "cell_type": "code",
   "execution_count": 25,
   "source": [
    "model_xgb = make_pipeline(\n",
    "    OrdinalEncoder(),\n",
    "    SimpleImputer(),\n",
    "    XGBClassifier(random_state=42, n_jobs=-1, n_estimators=5, max_depth=100)\n",
    ")\n",
    "\n",
    "model_xgb.fit(X_train, Y_train);"
   ],
   "outputs": [
    {
     "output_type": "stream",
     "name": "stderr",
     "text": [
      "C:\\Users\\Bob\\anaconda3\\lib\\site-packages\\xgboost\\sklearn.py:1146: UserWarning: The use of label encoder in XGBClassifier is deprecated and will be removed in a future release. To remove this warning, do the following: 1) Pass option use_label_encoder=False when constructing XGBClassifier object; and 2) Encode your labels (y) as integers starting with 0, i.e. 0, 1, 2, ..., [num_class - 1].\n",
      "  warnings.warn(label_encoder_deprecation_msg, UserWarning)\n"
     ]
    },
    {
     "output_type": "stream",
     "name": "stdout",
     "text": [
      "[21:22:19] WARNING: C:/Users/Administrator/workspace/xgboost-win64_release_1.4.0/src/learner.cc:1095: Starting in XGBoost 1.3.0, the default evaluation metric used with the objective 'binary:logistic' was changed from 'error' to 'logloss'. Explicitly set eval_metric if you'd like to restore the old behavior.\n"
     ]
    }
   ],
   "metadata": {}
  },
  {
   "cell_type": "code",
   "execution_count": 26,
   "source": [
    "print('XGBoost Training Accuracy:', model_xgb.score(X_train, Y_train))\n",
    "print('XGBoost Validation Accuracy:', model_xgb.score(X_test, Y_test))"
   ],
   "outputs": [
    {
     "output_type": "stream",
     "name": "stdout",
     "text": [
      "XGBoost Training Accuracy: 0.7792718775910153\n",
      "XGBoost Validation Accuracy: 0.6599231175096103\n"
     ]
    }
   ],
   "metadata": {}
  },
  {
   "cell_type": "code",
   "execution_count": 27,
   "source": [
    "parms = {\n",
    "    'xgbclassifier__learning_rate'    : [0.03, 0.05, 0.10, 0.15, 0.20, 0.25, 0.30],\n",
    "    'xgbclassifier__max_depth'        : range(80, 200, 20),\n",
    "    'xgbclassifier__min_child_weight' : [8, 9, 10, 11, 12, 13, 14],\n",
    "    'xgbclassifier__gamma'            : [0.2, 0.3, 0.4, 0.5, 0.6, 0.7],\n",
    "    'xgbclassifier__colsample_bytree' : [0.01, 0.02, 0.3, 0.4, 0.5, 0.7, 0.8, 0.9],\n",
    "    'xgbclassifier__n_estimators'     : [3, 10, 30]\n",
    "    \n",
    "}"
   ],
   "outputs": [],
   "metadata": {}
  },
  {
   "cell_type": "code",
   "execution_count": 28,
   "source": [
    "model_xgb2 = RandomizedSearchCV(\n",
    "    model_xgb,\n",
    "    param_distributions=parms,\n",
    "    n_iter=10,\n",
    "    cv=5,\n",
    "    n_jobs=-1,\n",
    "    verbose=1\n",
    ")\n",
    "\n",
    "model_xgb2.fit(X_train, Y_train)"
   ],
   "outputs": [
    {
     "output_type": "stream",
     "name": "stdout",
     "text": [
      "Fitting 5 folds for each of 10 candidates, totalling 50 fits\n"
     ]
    },
    {
     "output_type": "stream",
     "name": "stderr",
     "text": [
      "C:\\Users\\Bob\\anaconda3\\lib\\site-packages\\category_encoders\\utils.py:21: FutureWarning: is_categorical is deprecated and will be removed in a future version.  Use is_categorical_dtype instead\n",
      "  elif pd.api.types.is_categorical(cols):\n",
      "C:\\Users\\Bob\\anaconda3\\lib\\site-packages\\xgboost\\sklearn.py:1146: UserWarning: The use of label encoder in XGBClassifier is deprecated and will be removed in a future release. To remove this warning, do the following: 1) Pass option use_label_encoder=False when constructing XGBClassifier object; and 2) Encode your labels (y) as integers starting with 0, i.e. 0, 1, 2, ..., [num_class - 1].\n",
      "  warnings.warn(label_encoder_deprecation_msg, UserWarning)\n"
     ]
    },
    {
     "output_type": "stream",
     "name": "stdout",
     "text": [
      "[21:23:44] WARNING: C:/Users/Administrator/workspace/xgboost-win64_release_1.4.0/src/learner.cc:1095: Starting in XGBoost 1.3.0, the default evaluation metric used with the objective 'binary:logistic' was changed from 'error' to 'logloss'. Explicitly set eval_metric if you'd like to restore the old behavior.\n"
     ]
    },
    {
     "output_type": "execute_result",
     "data": {
      "text/plain": [
       "RandomizedSearchCV(cv=5,\n",
       "                   estimator=Pipeline(steps=[('ordinalencoder',\n",
       "                                              OrdinalEncoder(cols=['category',\n",
       "                                                                   'main_category',\n",
       "                                                                   'currency',\n",
       "                                                                   'country'],\n",
       "                                                             mapping=[{'col': 'category',\n",
       "                                                                       'data_type': dtype('O'),\n",
       "                                                                       'mapping': Music                1\n",
       "Film & Video         2\n",
       "Blues                3\n",
       "Video Games          4\n",
       "Spaces               5\n",
       "                  ... \n",
       "Video              156\n",
       "Pottery            157\n",
       "Taxidermy          158\n",
       "Literary Spaces    159\n",
       "NaN                 -2\n",
       "Length: 160, dtype: int64},\n",
       "                                                                      {'col': 'main_category',\n",
       "                                                                       'data_typ...\n",
       "                   param_distributions={'xgbclassifier__colsample_bytree': [0.01,\n",
       "                                                                            0.02,\n",
       "                                                                            0.3,\n",
       "                                                                            0.4,\n",
       "                                                                            0.5,\n",
       "                                                                            0.7,\n",
       "                                                                            0.8,\n",
       "                                                                            0.9],\n",
       "                                        'xgbclassifier__gamma': [0.2, 0.3, 0.4,\n",
       "                                                                 0.5, 0.6,\n",
       "                                                                 0.7],\n",
       "                                        'xgbclassifier__learning_rate': [0.03,\n",
       "                                                                         0.05,\n",
       "                                                                         0.1,\n",
       "                                                                         0.15,\n",
       "                                                                         0.2,\n",
       "                                                                         0.25,\n",
       "                                                                         0.3],\n",
       "                                        'xgbclassifier__max_depth': range(80, 200, 20),\n",
       "                                        'xgbclassifier__min_child_weight': [8,\n",
       "                                                                            9,\n",
       "                                                                            10,\n",
       "                                                                            11,\n",
       "                                                                            12,\n",
       "                                                                            13,\n",
       "                                                                            14],\n",
       "                                        'xgbclassifier__n_estimators': [3, 10,\n",
       "                                                                        30]},\n",
       "                   verbose=1)"
      ]
     },
     "metadata": {},
     "execution_count": 28
    }
   ],
   "metadata": {}
  },
  {
   "cell_type": "code",
   "execution_count": 29,
   "source": [
    "model_xgb2.score(X_test, Y_test)\n",
    "model_xgb2.score(X_train, Y_train)"
   ],
   "outputs": [
    {
     "output_type": "execute_result",
     "data": {
      "text/plain": [
       "0.7198273912715761"
      ]
     },
     "metadata": {},
     "execution_count": 29
    }
   ],
   "metadata": {}
  },
  {
   "cell_type": "code",
   "execution_count": 30,
   "source": [
    "model_xgb2.best_params_"
   ],
   "outputs": [
    {
     "output_type": "execute_result",
     "data": {
      "text/plain": [
       "{'xgbclassifier__n_estimators': 30,\n",
       " 'xgbclassifier__min_child_weight': 8,\n",
       " 'xgbclassifier__max_depth': 80,\n",
       " 'xgbclassifier__learning_rate': 0.1,\n",
       " 'xgbclassifier__gamma': 0.3,\n",
       " 'xgbclassifier__colsample_bytree': 0.7}"
      ]
     },
     "metadata": {},
     "execution_count": 30
    }
   ],
   "metadata": {}
  },
  {
   "cell_type": "code",
   "execution_count": 31,
   "source": [
    "model_xgb = make_pipeline(\n",
    "    OrdinalEncoder(),\n",
    "    SimpleImputer(),\n",
    "    XGBClassifier(random_state=42, n_jobs=-1, n_estimators=10, min_child_weight=10, max_depth=100, learning_rate=0.25, gamma=.2, colsample_bytree=0.7)\n",
    ")\n",
    "\n",
    "model_xgb.fit(X_train, Y_train);"
   ],
   "outputs": [
    {
     "output_type": "stream",
     "name": "stderr",
     "text": [
      "C:\\Users\\Bob\\anaconda3\\lib\\site-packages\\xgboost\\sklearn.py:1146: UserWarning: The use of label encoder in XGBClassifier is deprecated and will be removed in a future release. To remove this warning, do the following: 1) Pass option use_label_encoder=False when constructing XGBClassifier object; and 2) Encode your labels (y) as integers starting with 0, i.e. 0, 1, 2, ..., [num_class - 1].\n",
      "  warnings.warn(label_encoder_deprecation_msg, UserWarning)\n"
     ]
    },
    {
     "output_type": "stream",
     "name": "stdout",
     "text": [
      "[21:23:51] WARNING: C:/Users/Administrator/workspace/xgboost-win64_release_1.4.0/src/learner.cc:1095: Starting in XGBoost 1.3.0, the default evaluation metric used with the objective 'binary:logistic' was changed from 'error' to 'logloss'. Explicitly set eval_metric if you'd like to restore the old behavior.\n"
     ]
    }
   ],
   "metadata": {}
  },
  {
   "cell_type": "code",
   "execution_count": 32,
   "source": [
    "print('XGBoost Training Accuracy:', model_xgb.score(X_train, Y_train))\n",
    "print('XGBoost Validation Accuracy:', model_xgb.score(X_test, Y_test))"
   ],
   "outputs": [
    {
     "output_type": "stream",
     "name": "stdout",
     "text": [
      "XGBoost Training Accuracy: 0.7108502298937213\n",
      "XGBoost Validation Accuracy: 0.6808019898997513\n"
     ]
    }
   ],
   "metadata": {}
  },
  {
   "cell_type": "code",
   "execution_count": 34,
   "source": [
    "pickle_out = open(\"model_xgb2.pkl\",\"wb\")\n",
    "pickle.dump(model_xgb2, pickle_out)\n",
    "pickle_out.close()"
   ],
   "outputs": [],
   "metadata": {}
  },
  {
   "cell_type": "code",
   "execution_count": null,
   "source": [],
   "outputs": [],
   "metadata": {}
  }
 ],
 "metadata": {
  "kernelspec": {
   "display_name": "Python 3",
   "language": "python",
   "name": "python3"
  },
  "language_info": {
   "codemirror_mode": {
    "name": "ipython",
    "version": 3
   },
   "file_extension": ".py",
   "mimetype": "text/x-python",
   "name": "python",
   "nbconvert_exporter": "python",
   "pygments_lexer": "ipython3",
   "version": "3.8.8"
  }
 },
 "nbformat": 4,
 "nbformat_minor": 5
}